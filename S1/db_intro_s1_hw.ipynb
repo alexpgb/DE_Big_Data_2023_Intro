{
 "cells": [
  {
   "cell_type": "code",
   "execution_count": null,
   "metadata": {},
   "outputs": [],
   "source": [
    "\"\"\"\n",
    "1.  Ознакомьтесь с библиотеками для распараллеливания задач в python:\n",
    " 1.1. multiprocessing \n",
    " 1.2. joblib joblib.readthedocs.io\n",
    " 1.3. dask www.dask.org\n",
    " 1.4. www.ray.io\n",
    "2. Посчитать средний балл фильмов. Подробнее в нотебуке:\n",
    "https://drive.google.com/file/d/1hPp3m1wPBKSyhqrO9zJidiW9rwsOSV_f/view?usp=share_link\n",
    "Условия и критерии выполнения домашнего задания внутри файла\n",
    "\n",
    "\"\"\""
   ]
  },
  {
   "cell_type": "code",
   "execution_count": 1,
   "metadata": {},
   "outputs": [],
   "source": [
    "import json"
   ]
  },
  {
   "cell_type": "code",
   "execution_count": 24,
   "metadata": {},
   "outputs": [],
   "source": [
    "import pandas as pd\n",
    "import numpy as  np \n",
    "from pathlib import Path\n",
    "import os\n",
    "from functools import reduce\n"
   ]
  },
  {
   "cell_type": "code",
   "execution_count": 22,
   "metadata": {},
   "outputs": [
    {
     "data": {
      "text/plain": [
       "'c:\\\\Users\\\\Alex\\\\Documents\\\\GB\\\\DE_Big_Data_2023_Intro\\\\S1'"
      ]
     },
     "execution_count": 22,
     "metadata": {},
     "output_type": "execute_result"
    }
   ],
   "source": [
    "os.getcwd()"
   ]
  },
  {
   "cell_type": "code",
   "execution_count": 8,
   "metadata": {},
   "outputs": [
    {
     "name": "stdout",
     "output_type": "stream",
     "text": [
      "8.4 {'title': 'Avengers Endgame', 'movieIMDbRating': 8.4, 'totalRatingCount': 1073964, 'totalUserReviews': '9.5K', 'totalCriticReviews': '593', 'metaScore': '78', 'movieGenres': ['Action', 'Adventure', 'Drama'], 'directors': ['Anthony Russo', 'Joe Russo'], 'datePublished': '2019-04-26', 'creators': ['Christopher Markus', 'Stephen McFeely', 'Stan Lee'], 'mainStars': ['Robert Downey Jr.', 'Chris Evans', 'Mark Ruffalo'], 'description': \"After the devastating events of Avengers: Infinity War (2018), the universe is in ruins. With the help of remaining allies, the Avengers assemble once more in order to reverse Thanos' actions and restore balance to the universe.\", 'duration': 181}\n"
     ]
    }
   ],
   "source": [
    "# idmb_json_list = \n",
    "with open('./idmb_dataset/Avengers Endgame/metadata.json') as f:\n",
    "    d = json.load(f)\n",
    "print(d['movieIMDbRating'], d)\n"
   ]
  },
  {
   "cell_type": "code",
   "execution_count": 7,
   "metadata": {},
   "outputs": [
    {
     "data": {
      "text/plain": [
       "[WindowsPath('idmb_dataset/Avengers Endgame'),\n",
       " WindowsPath('idmb_dataset/Forrest Gump'),\n",
       " WindowsPath('idmb_dataset/John Wick Chapter 3  Parabellum'),\n",
       " WindowsPath('idmb_dataset/Joker'),\n",
       " WindowsPath('idmb_dataset/Morbius'),\n",
       " WindowsPath('idmb_dataset/Pulp Fiction'),\n",
       " WindowsPath('idmb_dataset/SpiderMan No Way Home'),\n",
       " WindowsPath('idmb_dataset/The Avengers'),\n",
       " WindowsPath('idmb_dataset/The Dark Knight'),\n",
       " WindowsPath('idmb_dataset/Thor Ragnarok'),\n",
       " WindowsPath('idmb_dataset/Avengers Endgame/metadata.json'),\n",
       " WindowsPath('idmb_dataset/Avengers Endgame/movieReviews.csv'),\n",
       " WindowsPath('idmb_dataset/Forrest Gump/metadata.json'),\n",
       " WindowsPath('idmb_dataset/Forrest Gump/movieReviews.csv'),\n",
       " WindowsPath('idmb_dataset/John Wick Chapter 3  Parabellum/metadata.json'),\n",
       " WindowsPath('idmb_dataset/John Wick Chapter 3  Parabellum/movieReviews.csv'),\n",
       " WindowsPath('idmb_dataset/Joker/metadata.json'),\n",
       " WindowsPath('idmb_dataset/Joker/movieReviews.csv'),\n",
       " WindowsPath('idmb_dataset/Morbius/metadata.json'),\n",
       " WindowsPath('idmb_dataset/Morbius/movieReviews.csv'),\n",
       " WindowsPath('idmb_dataset/Pulp Fiction/metadata.json'),\n",
       " WindowsPath('idmb_dataset/Pulp Fiction/movieReviews.csv'),\n",
       " WindowsPath('idmb_dataset/SpiderMan No Way Home/metadata.json'),\n",
       " WindowsPath('idmb_dataset/SpiderMan No Way Home/movieReviews.csv'),\n",
       " WindowsPath('idmb_dataset/The Avengers/metadata.json'),\n",
       " WindowsPath('idmb_dataset/The Avengers/movieReviews.csv'),\n",
       " WindowsPath('idmb_dataset/The Dark Knight/metadata.json'),\n",
       " WindowsPath('idmb_dataset/The Dark Knight/movieReviews.csv'),\n",
       " WindowsPath('idmb_dataset/Thor Ragnarok/metadata.json'),\n",
       " WindowsPath('idmb_dataset/Thor Ragnarok/movieReviews.csv')]"
      ]
     },
     "execution_count": 7,
     "metadata": {},
     "output_type": "execute_result"
    }
   ],
   "source": [
    "list(Path('./idmb_dataset/').glob('**/*'))"
   ]
  },
  {
   "cell_type": "code",
   "execution_count": 20,
   "metadata": {},
   "outputs": [],
   "source": [
    "def mapper(path):\n",
    "    if path.is_file() and path.suffix == '.json':\n",
    "        with open(path, 'r') as f:\n",
    "            info = json.load(f)\n",
    "        return (1, float(info['movieIMDbRating']), 0)\n",
    "    else:\n",
    "        return (0, 0, 0)     \n",
    "\n",
    "\n",
    "def reducer(score_data1, score_data2):\n",
    "    if  score_data2[0] > 0:\n",
    "        n = score_data1[0]\n",
    "        n += score_data2[0]\n",
    "        delta = score_data2[1] - score_data1[1]\n",
    "        mean = score_data1[1] + delta / n\n",
    "        M2 = score_data1[2] + delta * (score_data2[1] - mean)\n",
    "        return n, mean, M2\n",
    "    else:    \n",
    "        return score_data1[0], score_data1[1], score_data1[2]"
   ]
  },
  {
   "cell_type": "code",
   "execution_count": 27,
   "metadata": {},
   "outputs": [
    {
     "name": "stdout",
     "output_type": "stream",
     "text": [
      "8.03 1.0517128885774865\n",
      "CPU times: total: 15.6 ms\n",
      "Wall time: 4.04 ms\n"
     ]
    }
   ],
   "source": [
    "%%time\n",
    "mapped_data = map(mapper, Path('./idmb_dataset/').glob('**/*'))\n",
    "# print(list(mapped_data))\n",
    "n, mean, M2 = reduce(reducer, mapped_data)\n",
    "print(mean, (M2 / n) ** (1/2))"
   ]
  }
 ],
 "metadata": {
  "kernelspec": {
   "display_name": ".python_b_hw",
   "language": "python",
   "name": "python3"
  },
  "language_info": {
   "codemirror_mode": {
    "name": "ipython",
    "version": 3
   },
   "file_extension": ".py",
   "mimetype": "text/x-python",
   "name": "python",
   "nbconvert_exporter": "python",
   "pygments_lexer": "ipython3",
   "version": "3.10.6"
  }
 },
 "nbformat": 4,
 "nbformat_minor": 2
}
